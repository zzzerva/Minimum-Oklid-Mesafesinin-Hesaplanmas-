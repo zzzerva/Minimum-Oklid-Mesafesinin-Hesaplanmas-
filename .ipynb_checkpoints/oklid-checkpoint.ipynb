{
 "cells": [
  {
   "cell_type": "code",
   "execution_count": 2,
   "id": "4344708f-a389-495b-aabc-17c3e09f1feb",
   "metadata": {},
   "outputs": [
    {
     "name": "stdin",
     "output_type": "stream",
     "text": [
      "Enter the number of points:  2\n",
      "Enter x coordinate for point 1:  1\n",
      "Enter y coordinate for point 1:  3\n",
      "Enter x coordinate for point 2:  3\n",
      "Enter y coordinate for point 2:  2\n"
     ]
    },
    {
     "name": "stdout",
     "output_type": "stream",
     "text": [
      "The minimum Euclidean distance is: 2.23606797749979\n"
     ]
    }
   ],
   "source": [
    "points = []\n",
    "num_points = int(input(\"Enter the number of points: \"))\n",
    "\n",
    "for i in range(num_points):\n",
    "    x = float(input(f\"Enter x coordinate for point {i+1}: \"))\n",
    "    y = float(input(f\"Enter y coordinate for point {i+1}: \"))\n",
    "    points.append((x, y))\n",
    "\n",
    "def euclideanDistance(point1, point2):\n",
    "    x1, y1 = point1\n",
    "    x2, y2 = point2\n",
    "    return ((x2 - x1) ** 2 + (y2 - y1) ** 2) ** 0.5\n",
    "\n",
    "distances = []\n",
    "for i in range(len(points)):\n",
    "    for j in range(i + 1, len(points)):\n",
    "        distance = euclideanDistance(points[i], points[j])\n",
    "        distances.append(distance)\n",
    "\n",
    "min_distance = min(distances)\n",
    "print(f\"The minimum Euclidean distance is: {min_distance}\")"
   ]
  },
  {
   "cell_type": "code",
   "execution_count": null,
   "id": "747d55b0-0f5e-4b18-99b8-e96c275aab8d",
   "metadata": {},
   "outputs": [],
   "source": []
  }
 ],
 "metadata": {
  "kernelspec": {
   "display_name": "Python 3 (ipykernel)",
   "language": "python",
   "name": "python3"
  },
  "language_info": {
   "codemirror_mode": {
    "name": "ipython",
    "version": 3
   },
   "file_extension": ".py",
   "mimetype": "text/x-python",
   "name": "python",
   "nbconvert_exporter": "python",
   "pygments_lexer": "ipython3",
   "version": "3.12.3"
  }
 },
 "nbformat": 4,
 "nbformat_minor": 5
}
